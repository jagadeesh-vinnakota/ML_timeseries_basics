{
 "cells": [
  {
   "cell_type": "code",
   "execution_count": 20,
   "metadata": {},
   "outputs": [
    {
     "name": "stdout",
     "output_type": "stream",
     "text": [
      "Follow this link\n",
      "https://machinelearningmastery.com/time-series-forecasting-methods-in-python-cheat-sheet/\n"
     ]
    }
   ],
   "source": [
    "print('''Follow this link\n",
    "https://machinelearningmastery.com/time-series-forecasting-methods-in-python-cheat-sheet/''')"
   ]
  },
  {
   "cell_type": "code",
   "execution_count": 1,
   "metadata": {},
   "outputs": [
    {
     "data": {
      "text/html": [
       "<h1>Auto Regressive (AR)</h1>"
      ],
      "text/plain": [
       "<IPython.core.display.HTML object>"
      ]
     },
     "metadata": {},
     "output_type": "display_data"
    },
    {
     "data": {
      "text/html": [
       "<p>The autoregression (AR) method models the next step in the sequence as a linear function of the observations at prior time steps</p>"
      ],
      "text/plain": [
       "<IPython.core.display.HTML object>"
      ]
     },
     "metadata": {},
     "output_type": "display_data"
    }
   ],
   "source": [
    "from IPython.core.display import display, HTML\n",
    "display(HTML('<h1>Auto Regressive (AR)</h1>'))\n",
    "display(HTML('<p>The autoregression (AR) method models the next step in the sequence as a linear function of the observations at prior time steps</p>'))\n"
   ]
  },
  {
   "cell_type": "code",
   "execution_count": 2,
   "metadata": {
    "scrolled": true
   },
   "outputs": [
    {
     "name": "stdout",
     "output_type": "stream",
     "text": [
      "Data: \n",
      " [1.3845197217296534, 2.5225827811506574, 3.1806106012160185, 4.890453634815073, 5.656235805010517, 6.351810691857295, 7.058519836409585, 8.149255053232155, 9.567728363059166, 10.589441635159947, 11.171277433714554, 12.778114691121335, 13.983608037660105, 14.878252000925691, 15.805459828139288, 16.66222486065842, 17.491927481237532, 18.219857368934573, 19.00255487214239, 20.851912725853175, 21.612147049706618, 22.451066821958634, 23.43691322917869, 24.464958817055532, 25.157520968438103, 26.130088285392528, 27.816248160717375, 28.55263894268453, 29.216333989945333, 30.354951314636025, 31.548827968238665, 32.091160357061476, 33.353338958291815, 34.790976366394176, 35.03916437355586, 36.77929642248993, 37.60415624686095, 38.128479877828745, 39.192107609010606, 40.12301931574068, 41.92764061744006, 42.89003618407137, 43.049024360388316, 44.20242631759495, 45.452255039800804, 46.57318040570753, 47.61967345602493, 48.8815729778644, 49.68498827339008, 50.77081966713089, 51.9944282353691, 52.766135814532184, 53.54062028088142, 54.52938928096081, 55.26961254521772, 56.937777237230335, 57.52622023944475, 58.91181777635464, 59.88325166668075, 60.622676149901245, 61.072921424638864, 62.68962509377136, 63.79762953131385, 64.96809198092107, 65.2399943717107, 66.17556482628302, 67.88587190233515, 68.61340474305187, 69.85636323493216, 70.66652928475631, 71.50490392081647, 72.29121865769787, 73.88574216357443, 74.1974862261787, 75.98356787826057, 76.74761892426666, 77.41986162149529, 78.24851740598544, 79.71862374750273, 80.81573740747345, 81.42540185086084, 82.82001574315804, 83.83969485697544, 84.22731759269458, 85.49999382039134, 86.87686813538768, 87.83317659354421, 88.02670952834704, 89.85219705248873, 90.83707658691387, 91.37071741994342, 92.61860996547249, 93.41569145940926, 94.41809782415386, 95.07327775234162, 96.37722907788913, 97.83918765789562, 98.33903741895186, 99.66531787868121]\n"
     ]
    },
    {
     "data": {
      "text/html": [
       "<h6>Prediction of next values in sequence</h6>"
      ],
      "text/plain": [
       "<IPython.core.display.HTML object>"
      ]
     },
     "metadata": {},
     "output_type": "display_data"
    },
    {
     "name": "stdout",
     "output_type": "stream",
     "text": [
      "[100.58129355 101.40709943 102.347335  ]\n"
     ]
    }
   ],
   "source": [
    "# AR example\n",
    "from statsmodels.tsa.ar_model import AR\n",
    "from random import random\n",
    "# contrived dataset\n",
    "data = [x + random() for x in range(1, 100)]\n",
    "print(f\"Data: \\n {data}\")\n",
    "# fit model\n",
    "model = AR(data)\n",
    "model_fit = model.fit()\n",
    "# make prediction\n",
    "yhat = model_fit.predict(start = len(data), end = len(data)+2)\n",
    "display(HTML('<h6>Prediction of next values in sequence</h6>'))\n",
    "print(yhat)"
   ]
  },
  {
   "cell_type": "code",
   "execution_count": 8,
   "metadata": {},
   "outputs": [
    {
     "data": {
      "text/html": [
       "<h1> Moving Average (MA)</h1>"
      ],
      "text/plain": [
       "<IPython.core.display.HTML object>"
      ]
     },
     "metadata": {},
     "output_type": "display_data"
    },
    {
     "name": "stdout",
     "output_type": "stream",
     "text": [
      "The Autoregressive Moving Average (ARMA) method models the next step in the sequence as a linear function of the observations and resiudal errors at prior time steps.\n",
      "\n",
      "It combines both Autoregression (AR) and Moving Average (MA) models.\n",
      "\n",
      "The notation for the model involves specifying the order for the AR(p) and MA(q) models as parameters to an ARMA function, e.g. ARMA(p, q). An ARIMA model can be used to develop AR or MA models.\n"
     ]
    }
   ],
   "source": [
    "display(HTML('<h1> Moving Average (MA)</h1>'))\n",
    "print('''The Autoregressive Moving Average (ARMA) method models the next step in the sequence as a linear function of the observations and resiudal errors at prior time steps.\n",
    "\n",
    "It combines both Autoregression (AR) and Moving Average (MA) models.\n",
    "\n",
    "The notation for the model involves specifying the order for the AR(p) and MA(q) models as parameters to an ARMA function, e.g. ARMA(p, q). An ARIMA model can be used to develop AR or MA models.''')"
   ]
  },
  {
   "cell_type": "code",
   "execution_count": 4,
   "metadata": {},
   "outputs": [
    {
     "name": "stdout",
     "output_type": "stream",
     "text": [
      "Data: \n",
      " [1.5698248666228718, 2.9797179526190125, 3.994168394942218, 4.789385352657571, 5.842221468655531, 6.004994067124147, 7.53585476795005, 8.021806162231938, 9.42119932279794, 10.99923755426607, 11.472890943674981, 12.831540389205204, 13.106855017302525, 14.801537347985613, 15.891057806332299, 16.815908814117524, 17.590095538466592, 18.561523747642255, 19.897348002028725, 20.906531318317786, 21.70934179283611, 22.623092502269447, 23.52701479048594, 24.219182867550224, 25.728692038987823, 26.42229926349147, 27.55859985048048, 28.506533273458793, 29.208271343094463, 30.55483427005125, 31.083208222504116, 32.38842163526161, 33.86743633244869, 34.27238924335493, 35.12905074808435, 36.01818491281621, 37.88836003920259, 38.14414692390574, 39.72626897452163, 40.88061250964112, 41.87372224774381, 42.0955413825761, 43.905881899855274, 44.36369714292227, 45.83299058218473, 46.82524115220391, 47.359463619486995, 48.35301694627461, 49.36534817861511, 50.397940711852165, 51.48656672655795, 52.12797210076533, 53.04912933724192, 54.90922801964258, 55.41134532224913, 56.71343184225474, 57.97354721633103, 58.22718201710568, 59.24414669722777, 60.453064477755184, 61.37317205040429, 62.06745305140427, 63.63895184063929, 64.1127318201486, 65.19875980576532, 66.88761370154504, 67.95471401013071, 68.17762197484168, 69.98088351750921, 70.76942386309348, 71.99100203431446, 72.35536551500982, 73.66075669695658, 74.51414777267586, 75.75710910487405, 76.644301908501, 77.35325075004702, 78.47500637673333, 79.28903241036403, 80.15238666993935, 81.18651203769811, 82.67801879313008, 83.71307916879508, 84.88412824690995, 85.43535408833559, 86.78789298886042, 87.31379798465916, 88.00057016599078, 89.69935074025902, 90.08675734249883, 91.64070975978467, 92.33940512306764, 93.19918813918578, 94.71352520316, 95.94096505246506, 96.94223455645306, 97.46354786375463, 98.68528554815732, 99.47204255461567]\n",
      "[76.97554676 50.57026399 50.57026399]\n"
     ]
    }
   ],
   "source": [
    "# MA example\n",
    "from statsmodels.tsa.arima_model import ARMA\n",
    "from random import random\n",
    "# contrived dataset\n",
    "data = [x + random() for x in range(1, 100)]\n",
    "print(f\"Data: \\n {data}\")\n",
    "# fit model\n",
    "model = ARMA(data, order=(0, 1))\n",
    "model_fit = model.fit(disp=False)\n",
    "# make prediction\n",
    "yhat = model_fit.predict(len(data), len(data)+2)\n",
    "print(yhat)"
   ]
  },
  {
   "cell_type": "code",
   "execution_count": 11,
   "metadata": {},
   "outputs": [
    {
     "data": {
      "text/html": [
       "<h1>Auto Regressive Moving Average(ARMA)</h1>"
      ],
      "text/plain": [
       "<IPython.core.display.HTML object>"
      ]
     },
     "metadata": {},
     "output_type": "display_data"
    },
    {
     "data": {
      "text/html": [
       "<p> The Autoregressive Moving Average (ARMA) method models the next step in the sequence as a linear function of the observations and resiudal errors at prior time steps.It combines both Autoregression (AR) and Moving Averag(MA) models.</p>"
      ],
      "text/plain": [
       "<IPython.core.display.HTML object>"
      ]
     },
     "metadata": {},
     "output_type": "display_data"
    }
   ],
   "source": [
    "display(HTML('<h1>Auto Regressive Moving Average(ARMA)</h1>'))\n",
    "display(HTML('<p> The Autoregressive Moving Average (ARMA) method models the next step in the sequence as a linear function of the observations and resiudal errors at prior time steps.It combines both Autoregression (AR) and Moving Averag(MA) models.</p>'))"
   ]
  },
  {
   "cell_type": "code",
   "execution_count": 13,
   "metadata": {},
   "outputs": [
    {
     "name": "stdout",
     "output_type": "stream",
     "text": [
      "[0.63578746]\n"
     ]
    }
   ],
   "source": [
    "# ARMA example\n",
    "from statsmodels.tsa.arima_model import ARMA\n",
    "from random import random\n",
    "# contrived dataset\n",
    "data = [random() for x in range(1, 100)]\n",
    "# fit model\n",
    "model = ARMA(data, order=(2, 1))\n",
    "model_fit = model.fit(disp=False)\n",
    "# make prediction\n",
    "yhat = model_fit.predict(len(data), len(data))\n",
    "print(yhat)"
   ]
  },
  {
   "cell_type": "code",
   "execution_count": 15,
   "metadata": {},
   "outputs": [
    {
     "data": {
      "text/html": [
       "<h1>Auto Regressive Integrated Moving Average(ARIMA)</h1>"
      ],
      "text/plain": [
       "<IPython.core.display.HTML object>"
      ]
     },
     "metadata": {},
     "output_type": "display_data"
    },
    {
     "name": "stdout",
     "output_type": "stream",
     "text": [
      "The Autoregressive Integrated Moving Average (ARIMA) method models the next step in the sequence as a linear function of the differenced observations and residual errors at prior time steps.\n",
      "\n",
      "It combines both Autoregression (AR) and Moving Average (MA) models as well as a differencing pre-processing step of the sequence to make the sequence stationary, called integration (I).\n",
      "\n",
      "The notation for the model involves specifying the order for the AR(p), I(d), and MA(q) models as parameters to an ARIMA function, e.g. ARIMA(p, d, q). An ARIMA model can also be used to develop AR, MA, and ARMA models.\n",
      "\n",
      "The method is suitable for univariate time series with trend and without seasonal components\n"
     ]
    }
   ],
   "source": [
    "display(HTML('<h1>Auto Regressive Integrated Moving Average(ARIMA)</h1>'))\n",
    "\n",
    "print('''The Autoregressive Integrated Moving Average (ARIMA) method models the next step in the sequence as a linear function of the differenced observations and residual errors at prior time steps.\n",
    "\n",
    "It combines both Autoregression (AR) and Moving Average (MA) models as well as a differencing pre-processing step of the sequence to make the sequence stationary, called integration (I).\n",
    "\n",
    "The notation for the model involves specifying the order for the AR(p), I(d), and MA(q) models as parameters to an ARIMA function, e.g. ARIMA(p, d, q). An ARIMA model can also be used to develop AR, MA, and ARMA models.\n",
    "\n",
    "The method is suitable for univariate time series with trend and without seasonal components''')"
   ]
  },
  {
   "cell_type": "code",
   "execution_count": 16,
   "metadata": {},
   "outputs": [
    {
     "name": "stdout",
     "output_type": "stream",
     "text": [
      "[100.38198485]\n"
     ]
    }
   ],
   "source": [
    "# ARIMA example\n",
    "from statsmodels.tsa.arima_model import ARIMA\n",
    "from random import random\n",
    "# contrived dataset\n",
    "data = [x + random() for x in range(1, 100)]\n",
    "# fit model\n",
    "model = ARIMA(data, order=(1, 1, 1))\n",
    "model_fit = model.fit(disp=False)\n",
    "# make prediction\n",
    "yhat = model_fit.predict(len(data), len(data), typ='levels')\n",
    "print(yhat)"
   ]
  },
  {
   "cell_type": "code",
   "execution_count": 17,
   "metadata": {},
   "outputs": [
    {
     "data": {
      "text/html": [
       "<h1>Seasonal Auto Regressive Integrated Moving Average(SARIMA)</h1>"
      ],
      "text/plain": [
       "<IPython.core.display.HTML object>"
      ]
     },
     "metadata": {},
     "output_type": "display_data"
    },
    {
     "name": "stdout",
     "output_type": "stream",
     "text": [
      "The Seasonal Autoregressive Integrated Moving Average (SARIMA) method models the next step in the sequence as a linear function of the differenced observations, errors, differenced seasonal observations, and seasonal errors at prior time steps.\n",
      "\n",
      "It combines the ARIMA model with the ability to perform the same autoregression, differencing, and moving average modeling at the seasonal level.\n",
      "\n",
      "The notation for the model involves specifying the order for the AR(p), I(d), and MA(q) models as parameters to an ARIMA function and AR(P), I(D), MA(Q) and m parameters at the seasonal level, e.g. SARIMA(p, d, q)(P, D, Q)m where “m” is the number of time steps in each season (the seasonal period). A SARIMA model can be used to develop AR, MA, ARMA and ARIMA models.\n",
      "\n",
      "The method is suitable for univariate time series with trend and/or seasonal components.\n"
     ]
    }
   ],
   "source": [
    "display(HTML('<h1>Seasonal Auto Regressive Integrated Moving Average(SARIMA)</h1>'))\n",
    "\n",
    "print('''The Seasonal Autoregressive Integrated Moving Average (SARIMA) method models the next step in the sequence as a linear function of the differenced observations, errors, differenced seasonal observations, and seasonal errors at prior time steps.\n",
    "\n",
    "It combines the ARIMA model with the ability to perform the same autoregression, differencing, and moving average modeling at the seasonal level.\n",
    "\n",
    "The notation for the model involves specifying the order for the AR(p), I(d), and MA(q) models as parameters to an ARIMA function and AR(P), I(D), MA(Q) and m parameters at the seasonal level, e.g. SARIMA(p, d, q)(P, D, Q)m where “m” is the number of time steps in each season (the seasonal period). A SARIMA model can be used to develop AR, MA, ARMA and ARIMA models.\n",
    "\n",
    "The method is suitable for univariate time series with trend and/or seasonal components.''')"
   ]
  },
  {
   "cell_type": "code",
   "execution_count": 22,
   "metadata": {},
   "outputs": [
    {
     "name": "stdout",
     "output_type": "stream",
     "text": [
      "Vector Autoregression (VAR) \n",
      "\n",
      "The Vector Autoregression (VAR) method models the next step in each time series using an AR model. It is the generalization of AR to multiple parallel time series, e.g. multivariate time series.\n",
      "\n",
      "The notation for the model involves specifying the order for the AR(p) model as parameters to a VAR function, e.g. VAR(p).\n",
      "\n",
      "The method is suitable for multivariate time series without trend and seasonal components.\n"
     ]
    }
   ],
   "source": [
    "print('''Vector Autoregression (VAR) \\n\n",
    "The Vector Autoregression (VAR) method models the next step in each time series using an AR model. It is the generalization of AR to multiple parallel time series, e.g. multivariate time series.\n",
    "\n",
    "The notation for the model involves specifying the order for the AR(p) model as parameters to a VAR function, e.g. VAR(p).\n",
    "\n",
    "The method is suitable for multivariate time series without trend and seasonal components.''')"
   ]
  },
  {
   "cell_type": "code",
   "execution_count": 24,
   "metadata": {},
   "outputs": [
    {
     "name": "stdout",
     "output_type": "stream",
     "text": [
      "[[100.60445879 100.97445402]]\n"
     ]
    }
   ],
   "source": [
    "# VAR example\n",
    "from statsmodels.tsa.vector_ar.var_model import VAR\n",
    "from random import random\n",
    "# contrived dataset with dependency\n",
    "data = list()\n",
    "for i in range(100):\n",
    "    v1 = i + random()\n",
    "    v2 = v1 + random()\n",
    "    row = [v1, v2]\n",
    "    data.append(row)\n",
    "# fit model\n",
    "model = VAR(data)\n",
    "model_fit = model.fit()\n",
    "# make prediction\n",
    "yhat = model_fit.forecast(model_fit.y, steps=1)\n",
    "print(yhat)"
   ]
  },
  {
   "cell_type": "code",
   "execution_count": null,
   "metadata": {},
   "outputs": [],
   "source": []
  }
 ],
 "metadata": {
  "kernelspec": {
   "display_name": "Python 3",
   "language": "python",
   "name": "python3"
  },
  "language_info": {
   "codemirror_mode": {
    "name": "ipython",
    "version": 3
   },
   "file_extension": ".py",
   "mimetype": "text/x-python",
   "name": "python",
   "nbconvert_exporter": "python",
   "pygments_lexer": "ipython3",
   "version": "3.6.8"
  }
 },
 "nbformat": 4,
 "nbformat_minor": 2
}
